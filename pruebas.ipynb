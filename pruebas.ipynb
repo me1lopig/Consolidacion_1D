{
 "metadata": {
  "language_info": {
   "codemirror_mode": {
    "name": "ipython",
    "version": 3
   },
   "file_extension": ".py",
   "mimetype": "text/x-python",
   "name": "python",
   "nbconvert_exporter": "python",
   "pygments_lexer": "ipython3",
   "version": "3.8.5-final"
  },
  "orig_nbformat": 2,
  "kernelspec": {
   "name": "python3",
   "display_name": "Python 3.8.5 64-bit",
   "metadata": {
    "interpreter": {
     "hash": "aee8b7b246df8f9039afb4144a1f6fd8d2ca17a180786b69acc140d282b71a49"
    }
   }
  }
 },
 "nbformat": 4,
 "nbformat_minor": 2,
 "cells": [
  {
   "cell_type": "code",
   "execution_count": 59,
   "metadata": {},
   "outputs": [
    {
     "output_type": "stream",
     "name": "stdout",
     "text": [
      "[0, 118.23, 120.0, 120.0, 120.0, 0, 0]\n[60.0, 120, 120, 120, 120, 120, 60.0]\n"
     ]
    }
   ],
   "source": [
    "altura=6\n",
    "h=1\n",
    "nx=int(altura/h)\n",
    "u=[0,0,0,0,0,0,0]\n",
    "u0=[120,120,120,120,120,120,120]\n",
    "alfa=0.0295\n",
    "carga=120\n",
    "T0=0\n",
    "TL=0\n",
    "u0[0]=(T0+carga)/2\n",
    "u0[nx]=(TL+carga)/2\n",
    "for i in range(1,nx-1):\n",
    "    u[i]=alfa*(u0[i+1]+u0[i-1]-2*u0[i])+u0[i]\n",
    "print(u)\n",
    "print(u0)"
   ]
  },
  {
   "cell_type": "code",
   "execution_count": 57,
   "metadata": {},
   "outputs": [
    {
     "output_type": "execute_result",
     "data": {
      "text/plain": [
       "60.0"
      ]
     },
     "metadata": {},
     "execution_count": 57
    }
   ],
   "source": [
    "u0[0]"
   ]
  },
  {
   "cell_type": "code",
   "execution_count": 55,
   "metadata": {},
   "outputs": [
    {
     "output_type": "stream",
     "name": "stdout",
     "text": [
      "120\n20\n"
     ]
    }
   ],
   "source": [
    "u=[0,0,0,0,0,0,0]\n",
    "u0=[20,120,120,120,120,120,20]\n",
    "print(u0[1])\n",
    "print(u0[nx])"
   ]
  },
  {
   "cell_type": "code",
   "execution_count": null,
   "metadata": {},
   "outputs": [],
   "source": []
  }
 ]
}